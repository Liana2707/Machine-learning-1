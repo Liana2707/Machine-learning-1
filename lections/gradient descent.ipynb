{
 "cells": [
  {
   "cell_type": "markdown",
   "id": "c199ea98",
   "metadata": {},
   "source": [
    "# Градиентный спуск.\n",
    "\n",
    "## Курс \"Машинное обучение\", программа AI Masters\n",
    "\n",
    "## Краснов Александр, Илья Карчмит"
   ]
  },
  {
   "cell_type": "markdown",
   "id": "319f2f96",
   "metadata": {},
   "source": [
    "## Градиентный спуск\n",
    "\n",
    "$$w^{(t+1)} = w^{(t)} - \\eta \\nabla L(w^{(t)})$$\n",
    "где $\\eta > 0$ — длина шага (learning rate) градиентного спуска."
   ]
  },
  {
   "cell_type": "markdown",
   "id": "59b5f04a",
   "metadata": {},
   "source": [
    "## Линейная регрессия\n",
    "\n",
    "Есть задача \n",
    "\n",
    "$$ \\lVert Xw - y \\rVert^2 \\rightarrow min_w$$\n"
   ]
  },
  {
   "cell_type": "markdown",
   "id": "520e93ef",
   "metadata": {},
   "source": [
    "Как выглядит решение?\n",
    "\n",
    "<details open>\n",
    "    <summary>Ответ</summary>\n",
    "    $$w = (X^TX)^{-1}X^Ty$$\n",
    "\n",
    "</details>"
   ]
  },
  {
   "cell_type": "markdown",
   "id": "4859813e",
   "metadata": {},
   "source": [
    "Как выглядит градиент?\n",
    "\n",
    "<details open>\n",
    "    <summary>Ответ</summary>\n",
    "    $$\\nabla L(w) = 2X^T(Xw - y)$$\n",
    "\n",
    "</details>"
   ]
  },
  {
   "cell_type": "markdown",
   "id": "170e699d",
   "metadata": {},
   "source": [
    "## Код"
   ]
  },
  {
   "cell_type": "code",
   "execution_count": null,
   "id": "e7c6e6ef",
   "metadata": {},
   "outputs": [],
   "source": [
    "import numpy as np\n",
    "from sklearn.datasets import make_regression\n",
    "import matplotlib.pyplot as plt\n",
    "\n",
    "n_features = 2\n",
    "X, y = make_regression(\n",
    "    1000,\n",
    "    n_features=n_features,\n",
    "    n_informative=2,\n",
    "    random_state=0,\n",
    ")\n",
    "X.shape, y.shape"
   ]
  },
  {
   "cell_type": "code",
   "execution_count": null,
   "id": "b52dedba",
   "metadata": {},
   "outputs": [],
   "source": [
    "np.random.seed(2)\n",
    "w_0 = np.random.uniform(-100, 100, (n_features))\n",
    "w_true = np.linalg.inv(X.T @ X) @ X.T @ y"
   ]
  },
  {
   "cell_type": "code",
   "execution_count": null,
   "id": "f2657567",
   "metadata": {},
   "outputs": [],
   "source": [
    "w_true, w_0"
   ]
  },
  {
   "cell_type": "code",
   "execution_count": null,
   "id": "238fcb87",
   "metadata": {},
   "outputs": [],
   "source": [
    "def loss(X, y, w):\n",
    "    return np.sum((X @ w - y) ** 2)"
   ]
  },
  {
   "cell_type": "code",
   "execution_count": null,
   "id": "7086688a",
   "metadata": {},
   "outputs": [],
   "source": [
    "np.sum((X @ w_true - y) ** 2)"
   ]
  },
  {
   "cell_type": "code",
   "execution_count": null,
   "id": "02a018d3",
   "metadata": {},
   "outputs": [],
   "source": [
    "assert np.isclose(np.sum((X @ w_true - y) ** 2), 0)"
   ]
  },
  {
   "cell_type": "code",
   "execution_count": null,
   "id": "dc3f02a3",
   "metadata": {},
   "outputs": [],
   "source": [
    "def plot_w_history(w_history, w_true):\n",
    "    plt.figure(figsize=(14,8))\n",
    "    plt.scatter(np.repeat(w_true[0], 2), np.repeat(w_true[1], 2), s=[50, 10], color=['k', 'w'])\n",
    "    plt.scatter(w_history[:, 0], w_history[:, 1], color='b', s=10, alpha=0.6)\n",
    "    for i in range(1, w_history.shape[0]):\n",
    "        plt.annotate('', xy=w_history[i], xytext=w_history[i-1],\n",
    "                       arrowprops={'arrowstyle': '->', 'color': 'r', 'lw': 1},\n",
    "                       va='center', ha='center')\n",
    "\n",
    "    theta0_grid = np.linspace(-100, 100, 101)\n",
    "    theta1_grid = np.linspace(-100, 100, 101)\n",
    "\n",
    "    theta0 = theta0_grid[np.newaxis, :, np.newaxis]\n",
    "    theta1 = theta1_grid[:, np.newaxis, np.newaxis]\n",
    "    L_grid = np.average((y - X[:, 0] * theta0 - X[:, 1] * theta1) ** 2, axis=2) / 2\n",
    "    X_grid, Y_grid = np.meshgrid(theta0_grid, theta1_grid)\n",
    "    contours = plt.contour(X_grid, Y_grid, L_grid, 100)\n",
    "    plt.clabel(contours)\n",
    "    plt.xlim((-100, 100))\n",
    "    plt.ylim((-100, 100))\n",
    "    plt.show()"
   ]
  },
  {
   "cell_type": "markdown",
   "id": "c809f6ab",
   "metadata": {},
   "source": [
    "Реализуем простой градиентный спуск"
   ]
  },
  {
   "cell_type": "markdown",
   "id": "84fcfb79",
   "metadata": {},
   "source": [
    "## GD"
   ]
  },
  {
   "cell_type": "code",
   "execution_count": null,
   "id": "1c6e3dcf",
   "metadata": {},
   "outputs": [],
   "source": [
    "def gd(X, y, w_0, eta=1e-4, n_iter=200):\n",
    "    pass"
   ]
  },
  {
   "cell_type": "code",
   "execution_count": null,
   "id": "e109a03e",
   "metadata": {},
   "outputs": [],
   "source": [
    "w_history = gd(X, y, w_0)"
   ]
  },
  {
   "cell_type": "code",
   "execution_count": null,
   "id": "b38fabb9",
   "metadata": {},
   "outputs": [],
   "source": [
    "w_true"
   ]
  },
  {
   "cell_type": "code",
   "execution_count": null,
   "id": "b010aeff",
   "metadata": {
    "scrolled": true
   },
   "outputs": [],
   "source": [
    "w_history"
   ]
  },
  {
   "cell_type": "code",
   "execution_count": null,
   "id": "73366328",
   "metadata": {},
   "outputs": [],
   "source": [
    "assert np.isclose(w_history[-1], w_true, atol=1e-1).all()"
   ]
  },
  {
   "cell_type": "code",
   "execution_count": null,
   "id": "a4c2711a",
   "metadata": {},
   "outputs": [],
   "source": [
    "plot_w_history(w_history, w_true)"
   ]
  },
  {
   "cell_type": "markdown",
   "id": "521d8c6e",
   "metadata": {},
   "source": [
    "## SGD\n",
    "Попробуем реализовать stochastic gradient descent..."
   ]
  },
  {
   "cell_type": "code",
   "execution_count": null,
   "id": "7b24e53c",
   "metadata": {},
   "outputs": [],
   "source": [
    "def sgd(X, y, w_0, eta=1e-1, n_iter=300, batch_size=100):\n",
    "    np.random.seed(0)\n",
    "    w = w_0.copy()\n",
    "    w_history = [w.copy()]\n",
    "    for i in range(1, n_iter):\n",
    "        pass\n",
    "        w_history.append(w.copy())\n",
    "    return np.array(w_history)"
   ]
  },
  {
   "cell_type": "code",
   "execution_count": null,
   "id": "e04826d1",
   "metadata": {},
   "outputs": [],
   "source": [
    "w_history_sgd = sgd(X, y, w_0, eta=0.9)"
   ]
  },
  {
   "cell_type": "code",
   "execution_count": null,
   "id": "25a1725a",
   "metadata": {},
   "outputs": [],
   "source": [
    "assert np.isclose(w_history_sgd[-1], w_true, atol=1e-1).all()"
   ]
  },
  {
   "cell_type": "code",
   "execution_count": null,
   "id": "e17e3b92",
   "metadata": {},
   "outputs": [],
   "source": [
    "plot_w_history(w_history_sgd, w_true)"
   ]
  },
  {
   "cell_type": "markdown",
   "id": "6c9c4c72",
   "metadata": {},
   "source": [
    "Добавим последовательное уменьшение шага градиента\n",
    "\n",
    "Возьмем $\\eta_t = \\frac{1}{1+t}$"
   ]
  },
  {
   "cell_type": "code",
   "execution_count": null,
   "id": "a6824e08",
   "metadata": {},
   "outputs": [],
   "source": [
    "def lr_shedule(t):\n",
    "    return 1/(1+t)\n",
    "\n",
    "def sgd_lr_schedule_v1(X, y, w_0, eta=1e-1, n_iter=300, batch_size=100):\n",
    "    np.random.seed(0)\n",
    "    w = w_0.copy()\n",
    "    w_history = [w.copy()]\n",
    "    for i in range(1, n_iter):\n",
    "        pass\n",
    "        w_history.append(w.copy())\n",
    "    return np.array(w_history)"
   ]
  },
  {
   "cell_type": "code",
   "execution_count": null,
   "id": "742344fa",
   "metadata": {},
   "outputs": [],
   "source": [
    "w_history_sqd_lr_schedule_v1 = sgd_lr_schedule_v1(X, y, w_0)"
   ]
  },
  {
   "cell_type": "code",
   "execution_count": null,
   "id": "ece0d949",
   "metadata": {},
   "outputs": [],
   "source": [
    "assert np.isclose(w_history_sqd_lr_schedule_v1[-1], w_true, atol=1e-1).all()"
   ]
  },
  {
   "cell_type": "code",
   "execution_count": null,
   "id": "f8310e62",
   "metadata": {},
   "outputs": [],
   "source": [
    "plot_w_history(w_history_sqd_lr_schedule_v1, w_true)"
   ]
  },
  {
   "cell_type": "markdown",
   "id": "30591809",
   "metadata": {},
   "source": [
    "$\\eta_t = \\frac{\\alpha}{t^{\\beta}}$"
   ]
  },
  {
   "cell_type": "code",
   "execution_count": null,
   "id": "5dffbdd6",
   "metadata": {},
   "outputs": [],
   "source": [
    "def lr_shedule_v2(t, alpha, beta):\n",
    "    return alpha / (t ** beta)\n",
    "\n",
    "def sgd_lr_schedule_v2(X, y, w_0, eta=1e-1, n_iter=300, batch_size=100, beta=0.5):\n",
    "    np.random.seed(0)\n",
    "    w = w_0.copy()\n",
    "    w_history = [w.copy()]\n",
    "    for i in range(1, n_iter):\n",
    "        pass\n",
    "        w_history.append(w.copy())\n",
    "    return np.array(w_history)"
   ]
  },
  {
   "cell_type": "code",
   "execution_count": null,
   "id": "4d509367",
   "metadata": {},
   "outputs": [],
   "source": [
    "w_history_sqd_lr_schedule_v2 = sgd_lr_schedule_v2(X, y, w_0)"
   ]
  },
  {
   "cell_type": "code",
   "execution_count": null,
   "id": "686ab5f0",
   "metadata": {},
   "outputs": [],
   "source": [
    "plot_w_history(w_history_sqd_lr_schedule_v2, w_true)"
   ]
  },
  {
   "cell_type": "code",
   "execution_count": null,
   "id": "6def55ff",
   "metadata": {},
   "outputs": [],
   "source": [
    "w_history_sqd_lr_schedule_v2[-1]"
   ]
  },
  {
   "cell_type": "code",
   "execution_count": null,
   "id": "009b6e43",
   "metadata": {},
   "outputs": [],
   "source": [
    "assert np.isclose(w_history_sqd_lr_schedule_v2[-1], w_true, atol=1e-1).all()"
   ]
  },
  {
   "cell_type": "markdown",
   "id": "8a763bd9",
   "metadata": {},
   "source": [
    "## Критерий останова"
   ]
  },
  {
   "cell_type": "code",
   "execution_count": null,
   "id": "eb895570",
   "metadata": {},
   "outputs": [],
   "source": [
    "def sgd_lr_schedule_v2(X, y, w_0, eta=1e-1, n_iter=10000, batch_size=100, beta=0.5, eps=1e-2):\n",
    "    np.random.seed(0)\n",
    "    w = w_0.copy()\n",
    "    w_history = [w.copy()]\n",
    "    for i in range(1, n_iter):\n",
    "        pass\n",
    "        w_history.append(w.copy())\n",
    "    return np.array(w_history)"
   ]
  },
  {
   "cell_type": "code",
   "execution_count": null,
   "id": "1d75f6e5",
   "metadata": {},
   "outputs": [],
   "source": [
    "w_history_sqd_lr_schedule_v2 = sgd_lr_schedule_v2(X, y, w_0)"
   ]
  },
  {
   "cell_type": "code",
   "execution_count": null,
   "id": "52529b5f",
   "metadata": {
    "scrolled": true
   },
   "outputs": [],
   "source": [
    "assert np.isclose(w_history_sqd_lr_schedule_v2[-1], w_true, atol=1e-1).all()"
   ]
  },
  {
   "cell_type": "code",
   "execution_count": null,
   "id": "e6a96d0e",
   "metadata": {},
   "outputs": [],
   "source": [
    "plot_w_history(w_history_sqd_lr_schedule_v2, w_true)"
   ]
  },
  {
   "cell_type": "markdown",
   "id": "5d086291",
   "metadata": {},
   "source": [
    "Что можно поиследовать?\n",
    "* Сравнить скорости сходимости для фиксированного набора данных (gd/sgd, разный набор параметров в lr_shedule)\n",
    "* Как использование batch в sgd ускоряет сходимость?"
   ]
  },
  {
   "cell_type": "markdown",
   "id": "4e0b79b3",
   "metadata": {},
   "source": [
    "## L1- и L2-регуляризация\n",
    "$$ L(w) = \\sum (Xw - y)^2 + \\lambda \\lVert w \\rVert_1$$\n",
    "\n",
    "$$\\nabla L(w) = ???$$\n",
    "<details open>\n",
    "    <summary>Ответ</summary>\n",
    "    $$\\nabla L(w) = 2X^T(Xw - y) + \\lambda \\mathbb{1}$$\n",
    "\n",
    "</details>"
   ]
  },
  {
   "cell_type": "code",
   "execution_count": null,
   "id": "07d74515",
   "metadata": {},
   "outputs": [],
   "source": [
    "l1 = 10"
   ]
  },
  {
   "cell_type": "code",
   "execution_count": null,
   "id": "abbf5003",
   "metadata": {},
   "outputs": [],
   "source": [
    "def l1_loss(X, y, w, l1):\n",
    "    return np.sum((X@w - y) ** 2) + l1 * np.sum(np.abs(w))"
   ]
  },
  {
   "cell_type": "markdown",
   "id": "9be162dd",
   "metadata": {},
   "source": [
    "Как проверить градиент?"
   ]
  },
  {
   "cell_type": "code",
   "execution_count": null,
   "id": "be763e50",
   "metadata": {},
   "outputs": [],
   "source": [
    "def get_numeric_grad(f, x, eps):\n",
    "    pass"
   ]
  },
  {
   "cell_type": "code",
   "execution_count": null,
   "id": "d53e9847",
   "metadata": {},
   "outputs": [],
   "source": [
    "get_numeric_grad(lambda w: l1_loss(X, y, w, l1), w_0, 1e-8)"
   ]
  },
  {
   "cell_type": "code",
   "execution_count": null,
   "id": "218297d9",
   "metadata": {},
   "outputs": [],
   "source": [
    "def grad_l1(X, y, w, l1):\n",
    "    return 2 * X.T @ (X @ w - y) + np.sign(w) * l1"
   ]
  },
  {
   "cell_type": "code",
   "execution_count": null,
   "id": "54016557",
   "metadata": {},
   "outputs": [],
   "source": [
    "grad_l1(X, y, w_0, l1)"
   ]
  },
  {
   "cell_type": "markdown",
   "id": "998bea83",
   "metadata": {},
   "source": [
    "$$ L(w) = \\sum (Xw - y)^2 + \\lambda \\lVert w \\rVert^2_2$$\n",
    "\n",
    "$$\\nabla L(w) = ???$$\n",
    "<details open>\n",
    "    <summary>Ответ</summary>\n",
    "    $$\\nabla L(w) = 2X^T(Xw - y) + 2\\lambda w$$\n",
    "\n",
    "</details>"
   ]
  },
  {
   "cell_type": "code",
   "execution_count": null,
   "id": "bb10c3f6",
   "metadata": {},
   "outputs": [],
   "source": [
    "l2 = 10\n",
    "def l2_loss(X, y, w, l2):\n",
    "    return np.sum((X@w - y) ** 2) + l2 * np.sum(w ** 2)"
   ]
  },
  {
   "cell_type": "code",
   "execution_count": null,
   "id": "29fa6aed",
   "metadata": {},
   "outputs": [],
   "source": [
    "get_numeric_grad(lambda w: l2_loss(X, y, w, l2), w_0, 1e-8)"
   ]
  },
  {
   "cell_type": "code",
   "execution_count": null,
   "id": "e9f52596",
   "metadata": {},
   "outputs": [],
   "source": [
    "def grad_l2(X, y, w, l2):\n",
    "    return 2 * X.T @ (X @ w - y) + 2 * l2 * w"
   ]
  },
  {
   "cell_type": "code",
   "execution_count": null,
   "id": "20a4d8ad",
   "metadata": {},
   "outputs": [],
   "source": [
    "grad_l2(X, y, w_0, l2)"
   ]
  },
  {
   "cell_type": "code",
   "execution_count": null,
   "id": "83866395",
   "metadata": {},
   "outputs": [],
   "source": [
    "def sgd_lr_schedule_v2_l2_reg(X, y, w_0, eta=1e-1, n_iter=10000, batch_size=100, beta=0.5, eps=1e-2, alpha=1):\n",
    "    w = w_0.copy()\n",
    "    w_history = [w.copy()]\n",
    "    for i in range(1, n_iter):\n",
    "        mask = np.random.choice(np.arange(X.shape[0]), size=batch_size, replace=False)\n",
    "        X_sample = X[mask]\n",
    "        y_sample = y[mask]\n",
    "        w -= lr_shedule_v2(i, eta, beta) *  grad_l2(X_sample, y_sample, w, alpha)/ y_sample.shape[0]\n",
    "        if (np.abs(w - w_history[-1]) < eps).all():\n",
    "            print(f'Early stop on {i} step')\n",
    "            break\n",
    "        w_history.append(w.copy())\n",
    "    return np.array(w_history)"
   ]
  },
  {
   "cell_type": "code",
   "execution_count": null,
   "id": "3dea09ab",
   "metadata": {},
   "outputs": [],
   "source": [
    "w_history_sgd_lr_schedule_v2_l2_reg = sgd_lr_schedule_v2_l2_reg(X, y, w_0, alpha=0.01)"
   ]
  },
  {
   "cell_type": "code",
   "execution_count": null,
   "id": "ac65911f",
   "metadata": {},
   "outputs": [],
   "source": [
    "assert np.isclose(w_history_sgd_lr_schedule_v2_l2_reg[-1], w_true, atol=1e-1).all()"
   ]
  },
  {
   "cell_type": "code",
   "execution_count": null,
   "id": "65910718",
   "metadata": {},
   "outputs": [],
   "source": [
    "def sgd_lr_schedule_v2_l1_reg(X, y, w_0, eta=1e-1, n_iter=10000, batch_size=100, beta=0.5, eps=1e-2, alpha=1):\n",
    "    w = w_0.copy()\n",
    "    w_history = [w.copy()]\n",
    "    for i in range(1, n_iter):\n",
    "        mask = np.random.choice(np.arange(X.shape[0]), size=batch_size, replace=False)\n",
    "        X_sample = X[mask]\n",
    "        y_sample = y[mask]\n",
    "        w -= lr_shedule_v2(i, eta, beta) *  grad_l1(X_sample, y_sample, w, alpha)/ y_sample.shape[0]\n",
    "        if (np.abs(w - w_history[-1]) < eps).all():\n",
    "            print(f'Early stop on {i} step')\n",
    "            break\n",
    "        w_history.append(w.copy())\n",
    "    return np.array(w_history)"
   ]
  },
  {
   "cell_type": "code",
   "execution_count": null,
   "id": "cd87049e",
   "metadata": {},
   "outputs": [],
   "source": [
    "w_history_sgd_lr_schedule_v2_l1_reg = sgd_lr_schedule_v2_l1_reg(X, y, w_0, alpha=0.1,)"
   ]
  },
  {
   "cell_type": "code",
   "execution_count": null,
   "id": "56eb5d55",
   "metadata": {},
   "outputs": [],
   "source": [
    "assert np.isclose(w_history_sgd_lr_schedule_v2_l1_reg[-1], w_true, atol=1e-1).all()"
   ]
  },
  {
   "cell_type": "code",
   "execution_count": null,
   "id": "2af06207",
   "metadata": {},
   "outputs": [],
   "source": []
  },
  {
   "cell_type": "code",
   "execution_count": null,
   "id": "bcad4582",
   "metadata": {},
   "outputs": [],
   "source": []
  },
  {
   "cell_type": "code",
   "execution_count": null,
   "id": "cb7ce1b8",
   "metadata": {},
   "outputs": [],
   "source": [
    "# третий признак - линейная комбинация первых 2\n",
    "X_new = np.hstack([X, (0.59 * X[:, 0] + 1.35 * X[:, 1]).reshape(-1, 1)])"
   ]
  },
  {
   "cell_type": "code",
   "execution_count": null,
   "id": "62e16253",
   "metadata": {},
   "outputs": [],
   "source": [
    "np.random.seed(3)\n",
    "n_features = 3\n",
    "w_0_new = np.random.uniform(-100, 100, (n_features))\n",
    "# w_true_new = np.linalg.inv(X_new.T @ X_new) @ X_new.T @ y\n",
    "w_0_new"
   ]
  },
  {
   "cell_type": "code",
   "execution_count": null,
   "id": "4e574f9b",
   "metadata": {},
   "outputs": [],
   "source": [
    "w_history_sgd_lr_schedule_v2_l1_reg = sgd_lr_schedule_v2_l1_reg(X_new, y, w_0_new, eps=1e-4)"
   ]
  },
  {
   "cell_type": "code",
   "execution_count": null,
   "id": "1249821d",
   "metadata": {},
   "outputs": [],
   "source": [
    "w_history_sgd_lr_schedule_v2_l1_reg[-1]"
   ]
  },
  {
   "cell_type": "code",
   "execution_count": null,
   "id": "ae2712aa",
   "metadata": {},
   "outputs": [],
   "source": [
    "def plot_weights(w_history):\n",
    "    plt.figure(figsize=(14,8))\n",
    "    color = plt.cm.rainbow(np.linspace(0, 1, w_history.shape[1]))\n",
    "    for i in range(w_history.shape[1]):\n",
    "        plt.plot(\n",
    "            np.arange(w_history[:, i].shape[0]),\n",
    "#             np.abs(w_history[:, i]),\n",
    "             w_history[:, i],\n",
    "            c=color[i], label=f'weight {i}')\n",
    "#     plt.yscale('log')\n",
    "    plt.xlabel('Num iter')\n",
    "    plt.ylabel('Abs weight')\n",
    "    plt.legend()\n",
    "    plt.show()"
   ]
  },
  {
   "cell_type": "code",
   "execution_count": null,
   "id": "6c479e42",
   "metadata": {},
   "outputs": [],
   "source": [
    "plot_weights(w_history_sgd_lr_schedule_v2_l1_reg)"
   ]
  },
  {
   "cell_type": "code",
   "execution_count": null,
   "id": "cd33b5bf",
   "metadata": {},
   "outputs": [],
   "source": [
    "np.sum((X_new @ w_history_sgd_lr_schedule_v2_l1_reg[-1] - y) ** 2)"
   ]
  },
  {
   "cell_type": "code",
   "execution_count": null,
   "id": "92270916",
   "metadata": {},
   "outputs": [],
   "source": [
    "w_history_sgd_lr_schedule_v2_l2_reg = sgd_lr_schedule_v2_l2_reg(X_new, y, w_0_new, eps=1e-4, eta=0.1)"
   ]
  },
  {
   "cell_type": "code",
   "execution_count": null,
   "id": "7cc28571",
   "metadata": {},
   "outputs": [],
   "source": [
    "w_history_sgd_lr_schedule_v2_l2_reg.shape"
   ]
  },
  {
   "cell_type": "code",
   "execution_count": null,
   "id": "23744046",
   "metadata": {},
   "outputs": [],
   "source": [
    "w_history_sgd_lr_schedule_v2_l2_reg[-1]"
   ]
  },
  {
   "cell_type": "code",
   "execution_count": null,
   "id": "f77ee836",
   "metadata": {},
   "outputs": [],
   "source": [
    "np.sum((X_new @ w_history_sgd_lr_schedule_v2_l2_reg[-1] - y) ** 2)"
   ]
  },
  {
   "cell_type": "code",
   "execution_count": null,
   "id": "16f55f13",
   "metadata": {},
   "outputs": [],
   "source": [
    "plot_weights(w_history_sgd_lr_schedule_v2_l2_reg)"
   ]
  },
  {
   "cell_type": "code",
   "execution_count": null,
   "id": "2414daaa",
   "metadata": {},
   "outputs": [],
   "source": [
    "def sgd_lr_schedule_v2_l2_reg(X, y, w_0, eta=1e-1, n_iter=10000, batch_size=100, beta=0.5, eps=1e-2, alpha=1):\n",
    "    w = w_0.copy()\n",
    "    w_history = [w.copy()]\n",
    "    for i in range(1, n_iter):\n",
    "        mask = np.random.choice(np.arange(X.shape[0]), size=batch_size, replace=False)\n",
    "        X_sample = X[mask]\n",
    "        y_sample = y[mask]\n",
    "        w -= eta *  grad_l2(X_sample, y_sample, w, alpha)/ y_sample.shape[0]\n",
    "        if (np.abs(w - w_history[-1]) < eps).all():\n",
    "            print(f'Early stop on {i} step')\n",
    "            break\n",
    "        w_history.append(w.copy())\n",
    "    return np.array(w_history)"
   ]
  },
  {
   "cell_type": "code",
   "execution_count": null,
   "id": "7a06e787",
   "metadata": {},
   "outputs": [],
   "source": [
    "w_history_sgd_lr_schedule_v2_l2_reg = sgd_lr_schedule_v2_l2_reg(\n",
    "    X_new, y, w_0_new,\n",
    "    eps=1e-4, eta=0.05, batch_size=250,\n",
    ")"
   ]
  },
  {
   "cell_type": "code",
   "execution_count": null,
   "id": "78418364",
   "metadata": {},
   "outputs": [],
   "source": [
    "w_history_sgd_lr_schedule_v2_l2_reg[-1]"
   ]
  },
  {
   "cell_type": "code",
   "execution_count": null,
   "id": "0761fa4c",
   "metadata": {},
   "outputs": [],
   "source": [
    "np.sum((X_new @ w_history_sgd_lr_schedule_v2_l2_reg[-1] - y) ** 2)"
   ]
  },
  {
   "cell_type": "code",
   "execution_count": null,
   "id": "3d55d4f0",
   "metadata": {},
   "outputs": [],
   "source": [
    "plot_weights(w_history_sgd_lr_schedule_v2_l2_reg)"
   ]
  },
  {
   "cell_type": "markdown",
   "id": "981a61f5",
   "metadata": {},
   "source": [
    "Можем все сложить в класс\n",
    "* gd/sgd\n",
    "* l1/l2/None\n",
    "* критерии останова\n",
    "* eta schedule"
   ]
  },
  {
   "cell_type": "code",
   "execution_count": null,
   "id": "784ecb37",
   "metadata": {},
   "outputs": [],
   "source": [
    "class Gradient_descent_mse:\n",
    "    def __init__(stochastic_batch=None, n_iter=1000, reg=None):\n",
    "        pass\n",
    "    \n",
    "    def descent(self, return_w_history=True, return_loss_history=False):\n",
    "        pass\n",
    "    \n",
    "    def loss(self, X, y, w):\n",
    "        pass\n",
    "    \n",
    "    def gradient_loss(self, X, y, w):\n",
    "        pass\n",
    "        \n",
    "    def eta_schedule(self, k):\n",
    "        pass\n",
    "    \n",
    "    "
   ]
  },
  {
   "cell_type": "markdown",
   "id": "7dd0930a",
   "metadata": {},
   "source": [
    "Добавить рисовалку градиента (для рассуждений)"
   ]
  },
  {
   "cell_type": "markdown",
   "id": "40ae4b25",
   "metadata": {},
   "source": [
    "## Бинарная классификация\n",
    "$$L(w) = \\log(1 + \\exp(-y\\langle w, x\\rangle)), \\quad y \\in \\{-1, 1\\}$$\n",
    "$$\\nabla L = \\sigma(-y\\langle w,x\\rangle ) * -yx$$\n",
    "\n",
    "Продолжение следует в дз?..."
   ]
  },
  {
   "cell_type": "code",
   "execution_count": null,
   "id": "c290544e",
   "metadata": {},
   "outputs": [],
   "source": []
  },
  {
   "cell_type": "markdown",
   "id": "890988e7",
   "metadata": {},
   "source": [
    "## Solvers\n",
    "\n",
    "смотрим документацию - https://scikit-learn.org/dev/modules/generated/sklearn.linear_model.Ridge.html\n",
    "\n",
    "чуть более подробный разбор - https://stackoverflow.com/questions/38640109/logistic-regression-python-solvers-definitions\n",
    "\n",
    "сравнение солверов https://scikit-learn.org/dev/modules/linear_model.html#solvers, https://scikit-learn.org/dev/auto_examples/linear_model/plot_sgd_comparison.html"
   ]
  },
  {
   "cell_type": "code",
   "execution_count": null,
   "id": "b3b18307",
   "metadata": {},
   "outputs": [],
   "source": []
  }
 ],
 "metadata": {
  "kernelspec": {
   "display_name": "AM_ML_env",
   "language": "python",
   "name": "am_ml_env"
  },
  "language_info": {
   "codemirror_mode": {
    "name": "ipython",
    "version": 3
   },
   "file_extension": ".py",
   "mimetype": "text/x-python",
   "name": "python",
   "nbconvert_exporter": "python",
   "pygments_lexer": "ipython3",
   "version": "3.9.18"
  }
 },
 "nbformat": 4,
 "nbformat_minor": 5
}
