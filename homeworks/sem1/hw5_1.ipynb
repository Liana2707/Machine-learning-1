{
  "cells": [
    {
      "cell_type": "markdown",
      "metadata": {
        "id": "view-in-github",
        "colab_type": "text"
      },
      "source": [
        "<a href=\"https://colab.research.google.com/github/Liana2707/Machine-learning-1/blob/main/notebooks/homeworks/hw5_1.ipynb\" target=\"_parent\"><img src=\"https://colab.research.google.com/assets/colab-badge.svg\" alt=\"Open In Colab\"/></a>"
      ]
    },
    {
      "cell_type": "markdown",
      "id": "9ec2ec22-e4bb-40f1-ae6c-a73feee291f9",
      "metadata": {
        "id": "9ec2ec22-e4bb-40f1-ae6c-a73feee291f9"
      },
      "source": [
        "## tool: KNNFeatureAggregator (5 баллов)\n",
        "\n",
        "Нужно написать класс, который будет справляться с задачей генерации новых фичей по ближайшим соседям.\n",
        "Принцип его работы объясним на примере. Допустим, мы находимся в каком-то пайплайне генерации признаков. Разберем псевдокод ниже:\n",
        "```python\n",
        "# 1\n",
        "'''\n",
        "    Создаем объект нашего класса - он принимает на вход информацию о том, какой будет индекс для поиска ближ. соседей.\n",
        "    Далее, \"обучаем\" индекс, если это нужно делать (строим граф, строим ivf-табличку) и т.п.).\n",
        "    После этого блока, у нас есть обученный индекс, готовый искать ближайших соседей по train_data.\n",
        "'''\n",
        "knn_feature_aggregator = KNNFeatureAggregator(index_info)\n",
        "knn_feature_aggregator.train(train_data, index_add_info)\n",
        "\n",
        "# 2\n",
        "'''\n",
        "    Считаем индексы ближайших соседей. На данном этапе мы хотим получить признаки для обучающей выборки, поэтому\n",
        "        подаем в качестве query_data нашу обучалку.\n",
        "    Указывам is_train=True, чтобы вернуть k ближайших соседей без учета самих себя (считая k+1 соседей + выкидывая 1 столбик).\n",
        "    k указываем __МАКСИМАЛЬНОЕ_ИЗ_ТРЕБУЮЩИХСЯ_НИЖЕ__ (пока не анализируем что это значит, просто имеем в виду).\n",
        "\n",
        "    Возвращает np.array размера (query_data.shape[0], k) с айдишниками ближ. соседей\n",
        "'''\n",
        "train_neighbors = knn_feature_aggregator.kneighbors(\n",
        "        query_data=train_data,\n",
        "        k=100,\n",
        "        is_train=True,\n",
        "        index_add_info=index_add_info\n",
        ")\n",
        "\n",
        "# 4 (сначала см. пункт 3 ниже)\n",
        "'''\n",
        "    Информацию о признаках можно подавать, например, в виде такого словаря.\n",
        "    Ключи - названия результирующих колонок с новыми признаками.\n",
        "    Значения - таплы из:\n",
        "        1. Название оригинальной колонки, по которой агрегируемся\n",
        "        2. Аггрегирующая фукнция\n",
        "        3. Список из количества ближайших соседей, по которым считаем агг. функцию.\n",
        "            Здесь каждое число должно быть НЕ БОЛЬШЕ k из пункта 2 (вспоминаем \"__МАКСИМАЛЬНОЕ_ИЗ_ТРЕБУЮЩИХСЯ_НИЖЕ__\", понимаем :)\n",
        "\n",
        "    Пример:\n",
        "        Имеем из п. 2 айдишники соседей:\n",
        "        train_neighbors = array([[1, 2, 3],\n",
        "                                 [2, 0, 3],\n",
        "                                 [3, 1, 4],\n",
        "                                 [4, 2, 1],\n",
        "                                 [3, 2, 1]], dtype=uint64)\n",
        "\n",
        "        Тогда по записи {\n",
        "            ...\n",
        "            'new_neighbors_age_mean': ('age', 'mean', [2, 3]),\n",
        "        }\n",
        "\n",
        "        Создадутся две новых колонки - 'new_neighbors_age_mean_2nn', 'new_neighbors_age_mean_3nn'.\n",
        "        В первой будет для каждого объекта лежать средний возраст его двух ближ. соседей,\n",
        "            во второй - средний возраст трех ближ. соседей.\n",
        "\n",
        "'''\n",
        "feature_info =\n",
        "{\n",
        "                    #  название_колонки     агг.функция               список кол-ва соседей, по которым считать агг. функцию\n",
        "    'new_col_name_1': ('original_col_name_1',     'sum',                                [10, 20, 100]),\n",
        "    'new_col_name_2': ('original_col_name_2',     lambda x: x.min() % 3,                [50, 80, 100])\n",
        "}\n",
        "\n",
        "# 3\n",
        "'''\n",
        "    Суть этого класса - генерировать новые фичи на основе ближайших соседей. Здесь мы это и делаем.\n",
        "    Для этого подаем на вход айдишники соседей из обучающей выборки и саму обучающую выборку.\n",
        "    Далее, подаем на вход информацию о том, \"какие\" признаки нам нужны, см. выше.\n",
        "\n",
        "    Возвращает датафрейм размера (neighbor_ids.shape[0], количество_новых_фичей_по_feature_info)\n",
        "'''\n",
        "train_new_feature_df = knn_feature_aggregator.make_features(\n",
        "    neighbor_ids=train_neighbors,\n",
        "    train_data=train_data,\n",
        "    feature_info=feature_info\n",
        ")\n",
        "train_data_with_new_features = merge(train_data, train_new_feature_df)\n",
        "\n",
        "# 5\n",
        "'''\n",
        "    Для тестовой выборки пайплайн будет выглядеть аналогично, за исключением того, что is_train теперь False\n",
        "'''\n",
        "test_neighbors = knn_feature_aggregator.kneighbors(\n",
        "        query_data=test_data,\n",
        "        k=100,\n",
        "        is_train=False,\n",
        "        index_add_info=index_add_info\n",
        ")\n",
        "test_new_feature_df = knn_feature_aggregator.make_features(\n",
        "    neighbor_ids=test_neighbors,\n",
        "    train_data=train_data,\n",
        "    feature_info=feature_info\n",
        ")\n",
        "test_data_with_new_features = merge(test_data, test_new_feature_df)\n",
        "\n",
        "```"
      ]
    },
    {
      "cell_type": "code",
      "execution_count": null,
      "id": "d99e16c9-17f0-4e0a-96ad-38d39ac59797",
      "metadata": {
        "id": "d99e16c9-17f0-4e0a-96ad-38d39ac59797"
      },
      "outputs": [],
      "source": []
    },
    {
      "cell_type": "markdown",
      "id": "e56926dd-e7db-4f7b-b18e-510e5cbc777b",
      "metadata": {
        "id": "e56926dd-e7db-4f7b-b18e-510e5cbc777b"
      },
      "source": [
        "### Задание:\n",
        "Написать класс, который реализует все, что описано выше, в частности:\n",
        "\n",
        "**\\_\\_init\\_\\_**\n",
        "- вы сами решаете, какой будет индекс, будет ли он фиксирован и т.п.\n",
        "\n",
        "**train**\n",
        "- обучающую выборку не нужно сохранять в объект класса в целях экономии памяти\n",
        "- если вам нужно разбить `train` на `train` и `add_items`,\n",
        "      чтобы поддерживать обучение индекса на репрезентативном сабсэмпле, можете это сделать\n",
        "- аргумент train_data - не обязательно выборка со всеми признаками.\n",
        "      Вы хотите подавать сюда то подмножество признаков, по которому будете искать соседей\n",
        "      (соответственно, нужно подавать уже приведенные к однородному виду данные)\n",
        "\n",
        "**kneighbors**\n",
        "- обязательна поддержка флажка is_train с описанным выше функционалом\n",
        "- аргумент query_data - см. замечание к аргументу train_data из метода train выше\n",
        "\n",
        "**make_features**\n",
        "- обработайте отдельно случай, когда вы в качестве ближайших соседей подаете единственное число.\n",
        "      Не нужно извне подавать список из одного числа, обработка должна быть внутри\n",
        "\n",
        "**Эффективность**\n",
        "\n",
        "Все должно быть реализовано эффективно. В том числе:\n",
        "- без цикла for по всем объектам train_data/query_data\n",
        "- без pd.DataFrame.apply\n",
        "- можно использовать np.apply_along_axis (работает в ~5 раз быстрее, чем pandas)\n",
        "\n",
        "**Пример**\n",
        "\n",
        "Нужно привести пример работы вашего класса, запустив ячейки в блоке \"Пример\" ниже.\n",
        "Не удаляйте авторский пример!\n",
        "\n",
        "**Вопросы**\n",
        "\n",
        "Нужно ответить на вопросы в блоке \"Вопросы\" ниже"
      ]
    },
    {
      "cell_type": "code",
      "execution_count": null,
      "id": "12d421eb-fc92-4c87-9040-932e38401236",
      "metadata": {
        "id": "12d421eb-fc92-4c87-9040-932e38401236"
      },
      "outputs": [],
      "source": []
    },
    {
      "cell_type": "markdown",
      "id": "397ba684-9024-410b-9bf8-f061a0e27fd3",
      "metadata": {
        "id": "397ba684-9024-410b-9bf8-f061a0e27fd3"
      },
      "source": [
        "**Note:** feature_info можете реализовать в любом виде, но описанный выше способ хорош тем,\n",
        "      что его легко привести в удобный для дальнейшей работы вид:"
      ]
    },
    {
      "cell_type": "code",
      "execution_count": null,
      "id": "38071a59-2bd2-4110-81b8-85d804a9c5f8",
      "metadata": {
        "id": "38071a59-2bd2-4110-81b8-85d804a9c5f8",
        "outputId": "0e7993e0-5bbd-4bdb-bdde-7cf298df4faf"
      },
      "outputs": [
        {
          "data": {
            "text/html": [
              "<div>\n",
              "<style scoped>\n",
              "    .dataframe tbody tr th:only-of-type {\n",
              "        vertical-align: middle;\n",
              "    }\n",
              "\n",
              "    .dataframe tbody tr th {\n",
              "        vertical-align: top;\n",
              "    }\n",
              "\n",
              "    .dataframe thead th {\n",
              "        text-align: right;\n",
              "    }\n",
              "</style>\n",
              "<table border=\"1\" class=\"dataframe\">\n",
              "  <thead>\n",
              "    <tr style=\"text-align: right;\">\n",
              "      <th></th>\n",
              "      <th>new_col</th>\n",
              "      <th>col_name</th>\n",
              "      <th>func</th>\n",
              "      <th>k</th>\n",
              "    </tr>\n",
              "  </thead>\n",
              "  <tbody>\n",
              "    <tr>\n",
              "      <th>0</th>\n",
              "      <td>new_col_name_1</td>\n",
              "      <td>original_col_name_1</td>\n",
              "      <td>&lt;function &lt;lambda&gt; at 0x0000018EB9671550&gt;</td>\n",
              "      <td>10</td>\n",
              "    </tr>\n",
              "    <tr>\n",
              "      <th>1</th>\n",
              "      <td>new_col_name_1</td>\n",
              "      <td>original_col_name_1</td>\n",
              "      <td>&lt;function &lt;lambda&gt; at 0x0000018EB9671550&gt;</td>\n",
              "      <td>20</td>\n",
              "    </tr>\n",
              "    <tr>\n",
              "      <th>2</th>\n",
              "      <td>new_col_name_1</td>\n",
              "      <td>original_col_name_1</td>\n",
              "      <td>&lt;function &lt;lambda&gt; at 0x0000018EB9671550&gt;</td>\n",
              "      <td>100</td>\n",
              "    </tr>\n",
              "    <tr>\n",
              "      <th>3</th>\n",
              "      <td>new_col_name_2</td>\n",
              "      <td>original_col_name_1</td>\n",
              "      <td>&lt;function &lt;lambda&gt; at 0x0000018EB9684790&gt;</td>\n",
              "      <td>11</td>\n",
              "    </tr>\n",
              "    <tr>\n",
              "      <th>4</th>\n",
              "      <td>new_col_name_2</td>\n",
              "      <td>original_col_name_1</td>\n",
              "      <td>&lt;function &lt;lambda&gt; at 0x0000018EB9684790&gt;</td>\n",
              "      <td>21</td>\n",
              "    </tr>\n",
              "    <tr>\n",
              "      <th>5</th>\n",
              "      <td>new_col_name_2</td>\n",
              "      <td>original_col_name_1</td>\n",
              "      <td>&lt;function &lt;lambda&gt; at 0x0000018EB9684790&gt;</td>\n",
              "      <td>101</td>\n",
              "    </tr>\n",
              "    <tr>\n",
              "      <th>6</th>\n",
              "      <td>new_col_name_3</td>\n",
              "      <td>original_col_name_2</td>\n",
              "      <td>&lt;function &lt;lambda&gt; at 0x0000018EB9684700&gt;</td>\n",
              "      <td>50</td>\n",
              "    </tr>\n",
              "    <tr>\n",
              "      <th>7</th>\n",
              "      <td>new_col_name_3</td>\n",
              "      <td>original_col_name_2</td>\n",
              "      <td>&lt;function &lt;lambda&gt; at 0x0000018EB9684700&gt;</td>\n",
              "      <td>80</td>\n",
              "    </tr>\n",
              "    <tr>\n",
              "      <th>8</th>\n",
              "      <td>new_col_name_3</td>\n",
              "      <td>original_col_name_2</td>\n",
              "      <td>&lt;function &lt;lambda&gt; at 0x0000018EB9684700&gt;</td>\n",
              "      <td>100</td>\n",
              "    </tr>\n",
              "  </tbody>\n",
              "</table>\n",
              "</div>"
            ],
            "text/plain": [
              "          new_col             col_name  \\\n",
              "0  new_col_name_1  original_col_name_1   \n",
              "1  new_col_name_1  original_col_name_1   \n",
              "2  new_col_name_1  original_col_name_1   \n",
              "3  new_col_name_2  original_col_name_1   \n",
              "4  new_col_name_2  original_col_name_1   \n",
              "5  new_col_name_2  original_col_name_1   \n",
              "6  new_col_name_3  original_col_name_2   \n",
              "7  new_col_name_3  original_col_name_2   \n",
              "8  new_col_name_3  original_col_name_2   \n",
              "\n",
              "                                        func    k  \n",
              "0  <function <lambda> at 0x0000018EB9671550>   10  \n",
              "1  <function <lambda> at 0x0000018EB9671550>   20  \n",
              "2  <function <lambda> at 0x0000018EB9671550>  100  \n",
              "3  <function <lambda> at 0x0000018EB9684790>   11  \n",
              "4  <function <lambda> at 0x0000018EB9684790>   21  \n",
              "5  <function <lambda> at 0x0000018EB9684790>  101  \n",
              "6  <function <lambda> at 0x0000018EB9684700>   50  \n",
              "7  <function <lambda> at 0x0000018EB9684700>   80  \n",
              "8  <function <lambda> at 0x0000018EB9684700>  100  "
            ]
          },
          "execution_count": 6,
          "metadata": {},
          "output_type": "execute_result"
        }
      ],
      "source": [
        "import pandas as pd\n",
        "\n",
        "feature_info = {\n",
        "                    #  название_колонки     агг.функция               список кол-ва соседей, по которым считать агг. функцию\n",
        "    'new_col_name_1': ('original_col_name_1',     lambda x: x.sum(),                                [10, 20, 100]),\n",
        "    'new_col_name_2': ('original_col_name_1',     lambda x: x.mean(),                                [11, 21, 101]),\n",
        "    'new_col_name_3': ('original_col_name_2',     lambda x: x.min() % 3,                [50, 80, 100])\n",
        "}\n",
        "pd.DataFrame(feature_info, index=['col_name', 'func', 'k']).T.explode('k').reset_index(names='new_col')"
      ]
    },
    {
      "cell_type": "code",
      "execution_count": null,
      "id": "302302a1-2070-4196-b694-6b0644b95763",
      "metadata": {
        "id": "302302a1-2070-4196-b694-6b0644b95763"
      },
      "outputs": [],
      "source": []
    },
    {
      "cell_type": "code",
      "execution_count": null,
      "id": "c5bf152c-ec88-4f3f-a81f-420188888c13",
      "metadata": {
        "id": "c5bf152c-ec88-4f3f-a81f-420188888c13"
      },
      "outputs": [],
      "source": [
        "class KNNFeatureAggregator:\n",
        "    def __init__(self, *args, **kwargs):\n",
        "        pass\n",
        "\n",
        "    def train(self, *args, **kwargs):\n",
        "        pass\n",
        "\n",
        "    def kneighbors(self, *args, **kwargs):\n",
        "        pass\n",
        "\n",
        "    def make_features(self, *args, **kwargs):\n",
        "        pass"
      ]
    },
    {
      "cell_type": "code",
      "execution_count": null,
      "id": "01baa1f1-b1cd-4a12-bd6b-fca52f1463e2",
      "metadata": {
        "id": "01baa1f1-b1cd-4a12-bd6b-fca52f1463e2"
      },
      "outputs": [],
      "source": []
    },
    {
      "cell_type": "markdown",
      "id": "4307da4f-c4b8-4466-bb8e-dafe06a9566e",
      "metadata": {
        "id": "4307da4f-c4b8-4466-bb8e-dafe06a9566e"
      },
      "source": [
        "### Пример"
      ]
    },
    {
      "cell_type": "markdown",
      "id": "afcac436-e843-4501-8672-01e28cbb158b",
      "metadata": {
        "id": "afcac436-e843-4501-8672-01e28cbb158b"
      },
      "source": [
        "Ваш:"
      ]
    },
    {
      "cell_type": "code",
      "execution_count": null,
      "id": "2d9330cf-b95d-4f6a-ba0c-1e76de9c7a72",
      "metadata": {
        "id": "2d9330cf-b95d-4f6a-ba0c-1e76de9c7a72"
      },
      "outputs": [],
      "source": [
        "train_data = pd.DataFrame({\n",
        "    'a': [1, 2, 3, 4, 5],\n",
        "    'b': [10, 19, 27, 34, 40]\n",
        "})\n",
        "agg = KNNFeatureAgg(...)\n",
        "agg.train(train_data, ...)\n",
        "neighbor_ids = agg.kneighbors(train_data, is_train=True, k=3, ...)\n",
        "neighbor_ids # у вас индексы ближ. соседей могут отличаться"
      ]
    },
    {
      "cell_type": "code",
      "execution_count": null,
      "id": "5e166539-0188-41e3-a16b-2b00fcd6845c",
      "metadata": {
        "id": "5e166539-0188-41e3-a16b-2b00fcd6845c"
      },
      "outputs": [],
      "source": [
        "X = agg.make_features(neighbor_ids, feature_info={\n",
        "    'a_sum': ('a', lambda x: x.sum(), [2, 3]),\n",
        "    'b_whatever': ('b', lambda x: x.min(), 2),\n",
        "})\n",
        "X"
      ]
    },
    {
      "cell_type": "code",
      "execution_count": null,
      "id": "22cd878b-68dc-4a24-97aa-6561f79dbb9d",
      "metadata": {
        "id": "22cd878b-68dc-4a24-97aa-6561f79dbb9d"
      },
      "outputs": [],
      "source": []
    },
    {
      "cell_type": "markdown",
      "id": "e438e989-639a-4dda-b94a-32910d6704fb",
      "metadata": {
        "id": "e438e989-639a-4dda-b94a-32910d6704fb"
      },
      "source": [
        "Авторский:"
      ]
    },
    {
      "cell_type": "code",
      "execution_count": null,
      "id": "43a7f44c-f117-4896-82e3-a1c1a558cece",
      "metadata": {
        "id": "43a7f44c-f117-4896-82e3-a1c1a558cece",
        "outputId": "479e35cf-28e8-4c2e-8bbf-58b78cf5bd59"
      },
      "outputs": [
        {
          "data": {
            "text/plain": [
              "array([[1, 2, 3],\n",
              "       [2, 0, 3],\n",
              "       [3, 1, 4],\n",
              "       [4, 2, 1],\n",
              "       [3, 2, 1]], dtype=uint64)"
            ]
          },
          "execution_count": 20,
          "metadata": {},
          "output_type": "execute_result"
        }
      ],
      "source": [
        "train_data = pd.DataFrame({\n",
        "    'a': [1, 2, 3, 4, 5],\n",
        "    'b': [10, 19, 27, 34, 40]\n",
        "})\n",
        "agg = KNNFeatureAgg(dim=2, metric='l2') # у автора: hnsw index\n",
        "agg.train(train_data)\n",
        "neighbor_ids = agg.kneighbors(train_data, is_train=True, k=3)\n",
        "neighbor_ids # у вас индексы ближ. соседей могут отличаться"
      ]
    },
    {
      "cell_type": "code",
      "execution_count": null,
      "id": "884c2124-aa4b-4e65-bb9a-9834e284bac7",
      "metadata": {
        "id": "884c2124-aa4b-4e65-bb9a-9834e284bac7",
        "outputId": "46827186-3cf8-4f05-e54d-1666ea756931"
      },
      "outputs": [
        {
          "data": {
            "text/html": [
              "<div>\n",
              "<style scoped>\n",
              "    .dataframe tbody tr th:only-of-type {\n",
              "        vertical-align: middle;\n",
              "    }\n",
              "\n",
              "    .dataframe tbody tr th {\n",
              "        vertical-align: top;\n",
              "    }\n",
              "\n",
              "    .dataframe thead th {\n",
              "        text-align: right;\n",
              "    }\n",
              "</style>\n",
              "<table border=\"1\" class=\"dataframe\">\n",
              "  <thead>\n",
              "    <tr style=\"text-align: right;\">\n",
              "      <th></th>\n",
              "      <th>a_sum_2nn</th>\n",
              "      <th>b_whatever_2nn</th>\n",
              "      <th>a_sum_3nn</th>\n",
              "    </tr>\n",
              "  </thead>\n",
              "  <tbody>\n",
              "    <tr>\n",
              "      <th>0</th>\n",
              "      <td>5</td>\n",
              "      <td>19</td>\n",
              "      <td>9</td>\n",
              "    </tr>\n",
              "    <tr>\n",
              "      <th>1</th>\n",
              "      <td>4</td>\n",
              "      <td>10</td>\n",
              "      <td>8</td>\n",
              "    </tr>\n",
              "    <tr>\n",
              "      <th>2</th>\n",
              "      <td>6</td>\n",
              "      <td>19</td>\n",
              "      <td>11</td>\n",
              "    </tr>\n",
              "    <tr>\n",
              "      <th>3</th>\n",
              "      <td>8</td>\n",
              "      <td>27</td>\n",
              "      <td>10</td>\n",
              "    </tr>\n",
              "    <tr>\n",
              "      <th>4</th>\n",
              "      <td>7</td>\n",
              "      <td>27</td>\n",
              "      <td>9</td>\n",
              "    </tr>\n",
              "  </tbody>\n",
              "</table>\n",
              "</div>"
            ],
            "text/plain": [
              "   a_sum_2nn  b_whatever_2nn  a_sum_3nn\n",
              "0          5              19          9\n",
              "1          4              10          8\n",
              "2          6              19         11\n",
              "3          8              27         10\n",
              "4          7              27          9"
            ]
          },
          "execution_count": 21,
          "metadata": {},
          "output_type": "execute_result"
        }
      ],
      "source": [
        "X = agg.make_features(neighbor_ids, feature_info={\n",
        "    'a_sum': ('a', lambda x: x.sum(), [2, 3]),\n",
        "    'b_whatever': ('b', lambda x: x.min(), 2),\n",
        "})\n",
        "X"
      ]
    },
    {
      "cell_type": "code",
      "execution_count": null,
      "id": "bf35db90-6799-4261-998f-bde8b281435e",
      "metadata": {
        "id": "bf35db90-6799-4261-998f-bde8b281435e"
      },
      "outputs": [],
      "source": []
    },
    {
      "cell_type": "markdown",
      "id": "621797b8-034b-4865-b7c4-76226cc9c227",
      "metadata": {
        "id": "621797b8-034b-4865-b7c4-76226cc9c227"
      },
      "source": [
        "### Вопросы\n",
        "\n",
        "1) Какой / какие индекс[-ы] вы решили использовать для этой задачи и почему?\n",
        "2) Какие недостатки / потенциальные зоны для улучшения у вашей текущей реализации?"
      ]
    },
    {
      "cell_type": "code",
      "execution_count": null,
      "id": "b26ed7c1-9ce0-4a23-b5c6-ed80f60b9f6a",
      "metadata": {
        "id": "b26ed7c1-9ce0-4a23-b5c6-ed80f60b9f6a"
      },
      "outputs": [],
      "source": []
    }
  ],
  "metadata": {
    "kernelspec": {
      "display_name": "Python 3",
      "name": "python3"
    },
    "language_info": {
      "codemirror_mode": {
        "name": "ipython",
        "version": 3
      },
      "file_extension": ".py",
      "mimetype": "text/x-python",
      "name": "python",
      "nbconvert_exporter": "python",
      "pygments_lexer": "ipython3",
      "version": "3.10.11"
    },
    "colab": {
      "provenance": [],
      "gpuType": "T4",
      "include_colab_link": true
    },
    "accelerator": "GPU"
  },
  "nbformat": 4,
  "nbformat_minor": 5
}